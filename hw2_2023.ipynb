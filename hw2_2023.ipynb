{
  "nbformat": 4,
  "nbformat_minor": 0,
  "metadata": {
    "colab": {
      "provenance": [],
      "authorship_tag": "ABX9TyNi7hVbNJvL1TMXiwHn3WpT",
      "include_colab_link": true
    },
    "kernelspec": {
      "name": "python3",
      "display_name": "Python 3"
    },
    "language_info": {
      "name": "python"
    }
  },
  "cells": [
    {
      "cell_type": "markdown",
      "metadata": {
        "id": "view-in-github",
        "colab_type": "text"
      },
      "source": [
        "<a href=\"https://colab.research.google.com/github/faroquehassan/git_test/blob/main/hw2_2023.ipynb\" target=\"_parent\"><img src=\"https://colab.research.google.com/assets/colab-badge.svg\" alt=\"Open In Colab\"/></a>"
      ]
    },
    {
      "cell_type": "code",
      "execution_count": 84,
      "metadata": {
        "id": "n8ZHcNg_aqXO"
      },
      "outputs": [],
      "source": [
        "import pandas as pd\n",
        "import numpy as np\n",
        "import seaborn as sns\n",
        "from matplotlib import pyplot as plt\n",
        "%matplotlib inline"
      ]
    },
    {
      "cell_type": "code",
      "source": [
        "!wget https://raw.githubusercontent.com/alexeygrigorev/datasets/master/housing.csv"
      ],
      "metadata": {
        "colab": {
          "base_uri": "https://localhost:8080/"
        },
        "id": "gPk2lkAQatW8",
        "outputId": "dc8c4605-014b-4bfe-e0f1-b9d2e7f1dfdd"
      },
      "execution_count": 85,
      "outputs": [
        {
          "output_type": "stream",
          "name": "stdout",
          "text": [
            "--2023-09-24 18:47:18--  https://raw.githubusercontent.com/alexeygrigorev/datasets/master/housing.csv\n",
            "Resolving raw.githubusercontent.com (raw.githubusercontent.com)... 185.199.111.133, 185.199.108.133, 185.199.109.133, ...\n",
            "Connecting to raw.githubusercontent.com (raw.githubusercontent.com)|185.199.111.133|:443... connected.\n",
            "HTTP request sent, awaiting response... 200 OK\n",
            "Length: 1423529 (1.4M) [text/plain]\n",
            "Saving to: ‘housing.csv.1’\n",
            "\n",
            "\rhousing.csv.1         0%[                    ]       0  --.-KB/s               \rhousing.csv.1       100%[===================>]   1.36M  --.-KB/s    in 0.07s   \n",
            "\n",
            "2023-09-24 18:47:18 (20.7 MB/s) - ‘housing.csv.1’ saved [1423529/1423529]\n",
            "\n"
          ]
        }
      ]
    },
    {
      "cell_type": "code",
      "source": [
        "df = pd.read_csv('housing.csv')"
      ],
      "metadata": {
        "id": "MMI0hF6Xau5v"
      },
      "execution_count": 86,
      "outputs": []
    },
    {
      "cell_type": "code",
      "source": [
        "plt"
      ],
      "metadata": {
        "colab": {
          "base_uri": "https://localhost:8080/"
        },
        "id": "GCBJd1PNayd_",
        "outputId": "7ddb4874-60d9-49da-a809-f8a48089c312"
      },
      "execution_count": 87,
      "outputs": [
        {
          "output_type": "execute_result",
          "data": {
            "text/plain": [
              "<module 'matplotlib.pyplot' from '/usr/local/lib/python3.10/dist-packages/matplotlib/pyplot.py'>"
            ]
          },
          "metadata": {},
          "execution_count": 87
        }
      ]
    },
    {
      "cell_type": "code",
      "source": [
        "plt.figure(figsize = ((6,4)))\n",
        "sns.histplot(df['median_house_value'], bins = 30)\n",
        "plt.ylabel('Freq')\n",
        "plt.xlabel('Price')"
      ],
      "metadata": {
        "colab": {
          "base_uri": "https://localhost:8080/",
          "height": 405
        },
        "id": "2U7yo8XRa0Ps",
        "outputId": "158e2352-a4fa-44c0-89ab-0c2c60c0b23d"
      },
      "execution_count": 88,
      "outputs": [
        {
          "output_type": "execute_result",
          "data": {
            "text/plain": [
              "Text(0.5, 0, 'Price')"
            ]
          },
          "metadata": {},
          "execution_count": 88
        },
        {
          "output_type": "display_data",
          "data": {
            "text/plain": [
              "<Figure size 600x400 with 1 Axes>"
            ],
            "image/png": "[encoded data removed]"
          },
          "metadata": {}
        }
      ]
    },
    {
      "cell_type": "code",
      "source": [
        "df = df[df['ocean_proximity'].isin(['<1H OCEAN','INLAND'])]"
      ],
      "metadata": {
        "id": "LpWCo4vDbgiu"
      },
      "execution_count": 89,
      "outputs": []
    },
    {
      "cell_type": "code",
      "source": [
        "cols = ['latitude',\n",
        "'longitude',\n",
        "'housing_median_age',\n",
        "'total_rooms',\n",
        "'total_bedrooms',\n",
        "'population',\n",
        "'households',\n",
        "'median_income',\n",
        "'median_house_value']"
      ],
      "metadata": {
        "id": "bixzz-rUb8PL"
      },
      "execution_count": 90,
      "outputs": []
    },
    {
      "cell_type": "code",
      "source": [
        "df = df[cols]"
      ],
      "metadata": {
        "id": "Dxf0VXMgcdoO"
      },
      "execution_count": 91,
      "outputs": []
    },
    {
      "cell_type": "code",
      "source": [
        "df.isnull().sum()"
      ],
      "metadata": {
        "colab": {
          "base_uri": "https://localhost:8080/"
        },
        "id": "fX1V9yW4ceVP",
        "outputId": "135f32ad-729f-46a6-a231-9216fc5d1bcd"
      },
      "execution_count": 92,
      "outputs": [
        {
          "output_type": "execute_result",
          "data": {
            "text/plain": [
              "latitude                0\n",
              "longitude               0\n",
              "housing_median_age      0\n",
              "total_rooms             0\n",
              "total_bedrooms        157\n",
              "population              0\n",
              "households              0\n",
              "median_income           0\n",
              "median_house_value      0\n",
              "dtype: int64"
            ]
          },
          "metadata": {},
          "execution_count": 92
        }
      ]
    },
    {
      "cell_type": "code",
      "source": [
        "df['population'].describe()"
      ],
      "metadata": {
        "colab": {
          "base_uri": "https://localhost:8080/"
        },
        "id": "sXHnLoaAcihO",
        "outputId": "a0e65bfb-608e-4eb0-ed0b-24a0da7a92ad"
      },
      "execution_count": 93,
      "outputs": [
        {
          "output_type": "execute_result",
          "data": {
            "text/plain": [
              "count    15687.000000\n",
              "mean      1466.317205\n",
              "std       1180.389908\n",
              "min          3.000000\n",
              "25%        802.000000\n",
              "50%       1195.000000\n",
              "75%       1777.000000\n",
              "max      35682.000000\n",
              "Name: population, dtype: float64"
            ]
          },
          "metadata": {},
          "execution_count": 93
        }
      ]
    },
    {
      "cell_type": "code",
      "source": [
        "np.random.seed(42)\n",
        "n = len(df)\n",
        "\n",
        "n_val = int(0.2*n)\n",
        "n_test = int(0.2*n)\n",
        "n_train = n - (n_val+n_test)\n",
        "\n",
        "idx = np.arange(n)\n",
        "np.random.shuffle(idx)\n",
        "\n",
        "df_shuffled = df.iloc[idx]"
      ],
      "metadata": {
        "id": "3omCJJgWcqOt"
      },
      "execution_count": 94,
      "outputs": []
    },
    {
      "cell_type": "code",
      "source": [
        "df_train = df_shuffled.iloc[:n_train].copy()\n",
        "df_val = df_shuffled.iloc[n_train:n_train+n_val].copy()\n",
        "df_test = df_shuffled.iloc[n_train+n_val:].copy()"
      ],
      "metadata": {
        "id": "u32dehcZdbkO"
      },
      "execution_count": 95,
      "outputs": []
    },
    {
      "cell_type": "code",
      "source": [
        "df_train = df_train.reset_index(drop=True)\n",
        "df_val = df_val.reset_index(drop=True)\n",
        "df_test = df_test.reset_index(drop=True)"
      ],
      "metadata": {
        "id": "xgGSWQ2el3ga"
      },
      "execution_count": null,
      "outputs": []
    },
    {
      "cell_type": "code",
      "source": [
        "y_train_orig = df_train['median_house_value'].values\n",
        "y_test_orig = df_test['median_house_value'].values\n",
        "y_val_orig = df_val['median_house_value'].values\n",
        "\n",
        "y_train = np.log1p(df_train['median_house_value'].values)\n",
        "y_test = np.log1p(df_test['median_house_value'].values)\n",
        "y_val = np.log1p(df_val['median_house_value'].values)\n",
        "\n",
        "del df_train['median_house_value']\n",
        "del df_val['median_house_value']\n",
        "del df_test['median_house_value']"
      ],
      "metadata": {
        "id": "9Q94Tx5xdngJ"
      },
      "execution_count": 96,
      "outputs": []
    },
    {
      "cell_type": "code",
      "source": [
        "def prepare_X(df):\n",
        "  df_num = df.copy()\n",
        "  df_num = df_num.fillna(0)\n",
        "  X = df_num.values\n",
        "  return X"
      ],
      "metadata": {
        "id": "rVZS_pR9fhIp"
      },
      "execution_count": 97,
      "outputs": []
    },
    {
      "cell_type": "code",
      "source": [
        "def train_linear_regression(X,y):\n",
        "  ones = np.ones(X.shape[0])\n",
        "  X = np.column_stack([ones,X])\n",
        "\n",
        "  XTX = X.T.dot(X)\n",
        "  XTX_inv = np.linalg.inv(XTX)\n",
        "  w = XTX_inv.dot(X.T).dot(y)\n",
        "\n",
        "  return w[0],w[1:]"
      ],
      "metadata": {
        "id": "kwunEixcd464"
      },
      "execution_count": 98,
      "outputs": []
    },
    {
      "cell_type": "code",
      "source": [
        "def rmse(y, y_pred):\n",
        "    error = y_pred - y\n",
        "    mse = (error ** 2).mean()\n",
        "    return np.sqrt(mse)"
      ],
      "metadata": {
        "id": "Suu2XFQZemqX"
      },
      "execution_count": 99,
      "outputs": []
    },
    {
      "cell_type": "code",
      "source": [
        "X_train = prepare_X(df_train)\n",
        "w_0, w = train_linear_regression(X_train, y_train)\n",
        "\n",
        "y_pred = w_0 + X_train.dot(w)\n",
        "score = round(rmse(y_train, y_pred),2)\n",
        "print(score)\n"
      ],
      "metadata": {
        "colab": {
          "base_uri": "https://localhost:8080/"
        },
        "id": "pyZwIeGPe7I1",
        "outputId": "a5efb396-979f-4b78-b33e-d91bed725544"
      },
      "execution_count": 100,
      "outputs": [
        {
          "output_type": "stream",
          "name": "stdout",
          "text": [
            "0.34\n"
          ]
        }
      ]
    },
    {
      "cell_type": "code",
      "source": [
        "def prepare_X(df):\n",
        "  df_num = df.copy()\n",
        "  df_num = df_num.fillna(df_train['total_bedrooms'].mean())\n",
        "  X = df_num.values\n",
        "  return X"
      ],
      "metadata": {
        "id": "6431wdXYfc4A"
      },
      "execution_count": 101,
      "outputs": []
    },
    {
      "cell_type": "code",
      "source": [
        "X_train = prepare_X(df_train)\n",
        "w_0, w = train_linear_regression(X_train, y_train)\n",
        "\n",
        "y_pred = w_0 + X_train.dot(w)\n",
        "score = round(rmse(y_train, y_pred),2)\n",
        "print(score)"
      ],
      "metadata": {
        "colab": {
          "base_uri": "https://localhost:8080/"
        },
        "id": "V7Z_9EKZfvA5",
        "outputId": "ff462ac3-5cf6-4d32-b2f5-8a8921e7704e"
      },
      "execution_count": 102,
      "outputs": [
        {
          "output_type": "stream",
          "name": "stdout",
          "text": [
            "0.34\n"
          ]
        }
      ]
    },
    {
      "cell_type": "code",
      "source": [
        "def prepare_X(df):\n",
        "  df_num = df.copy()\n",
        "  df_num = df_num.fillna(0)\n",
        "  X = df_num.values\n",
        "  return X"
      ],
      "metadata": {
        "id": "Hq4Bw8EZgL1Y"
      },
      "execution_count": 103,
      "outputs": []
    },
    {
      "cell_type": "code",
      "source": [
        "def train_linear_regression_reg(X, y, r=0.0):\n",
        "    ones = np.ones(X.shape[0])\n",
        "    X = np.column_stack([ones, X])\n",
        "\n",
        "    XTX = X.T.dot(X)\n",
        "    reg = r * np.eye(XTX.shape[0])\n",
        "    XTX = XTX + reg\n",
        "\n",
        "    XTX_inv = np.linalg.inv(XTX)\n",
        "    w = XTX_inv.dot(X.T).dot(y)\n",
        "\n",
        "    return w[0], w[1:]"
      ],
      "metadata": {
        "id": "daz0DX24gUcJ"
      },
      "execution_count": 104,
      "outputs": []
    },
    {
      "cell_type": "code",
      "source": [
        "X_train = prepare_X(df_train)\n",
        "X_val = prepare_X(df_val)\n",
        "\n",
        "for r in [0, 0.000001, 0.0001, 0.001, 0.01, 0.1, 1, 5, 10]:\n",
        "    w_0, w = train_linear_regression_reg(X_train, y_train, r=r)\n",
        "    y_pred = w_0 + X_val.dot(w)\n",
        "    print('%6s' %r, round(rmse(y_val, y_pred),9))"
      ],
      "metadata": {
        "colab": {
          "base_uri": "https://localhost:8080/"
        },
        "id": "DD43oi1oga_M",
        "outputId": "5a9ebae7-b63e-47c8-dbcb-ed8b89bd6169"
      },
      "execution_count": 107,
      "outputs": [
        {
          "output_type": "stream",
          "name": "stdout",
          "text": [
            "     0 0.340847903\n",
            " 1e-06 0.340847906\n",
            "0.0001 0.34084818\n",
            " 0.001 0.340850692\n",
            "  0.01 0.34087793\n",
            "   0.1 0.341286204\n",
            "     1 0.344895833\n",
            "     5 0.347739807\n",
            "    10 0.348314983\n"
          ]
        }
      ]
    },
    {
      "cell_type": "code",
      "source": [
        "rmse_list = []\n",
        "rmse_num_list = []\n",
        "for i in [0, 1, 2, 3, 4, 5, 6, 7, 8, 9]:\n",
        "  #Seed and create shuffling 60/20/20 distro\n",
        "  np.random.seed(i)\n",
        "  n = len(df)\n",
        "  n_val = int(0.2*n)\n",
        "  n_test = int(0.2*n)\n",
        "  n_train = n - (n_val+n_test)\n",
        "  idx = np.arange(n)\n",
        "  np.random.shuffle(idx)\n",
        "  df_shuffled = df.iloc[idx]\n",
        "\n",
        "  #create shuffled dfs\n",
        "  df_train = df_shuffled.iloc[:n_train].copy()\n",
        "  df_val = df_shuffled.iloc[n_train:n_train+n_val].copy()\n",
        "  df_test = df_shuffled.iloc[n_train+n_val:].copy()\n",
        "\n",
        "  #reset index\n",
        "  df_train = df_train.reset_index(drop=True)\n",
        "  df_val = df_val.reset_index(drop=True)\n",
        "  df_test = df_test.reset_index(drop=True)\n",
        "\n",
        "  #separate the output\n",
        "  y_train_orig = df_train['median_house_value'].values\n",
        "  y_test_orig = df_test['median_house_value'].values\n",
        "  y_val_orig = df_val['median_house_value'].values\n",
        "\n",
        "  #log transformation\n",
        "  y_train = np.log1p(df_train['median_house_value'].values)\n",
        "  y_test = np.log1p(df_test['median_house_value'].values)\n",
        "  y_val = np.log1p(df_val['median_house_value'].values)\n",
        "\n",
        "  #delete from training datasets\n",
        "  del df_train['median_house_value']\n",
        "  del df_val['median_house_value']\n",
        "  del df_test['median_house_value']\n",
        "\n",
        "  #prepare X array\n",
        "  def prepare_X(df):\n",
        "    df_num = df.copy()\n",
        "    df_num = df_num.fillna(0)\n",
        "    X = df_num.values\n",
        "    return X\n",
        "\n",
        "  #lets train w/o regularization\n",
        "  def train_linear_regression(X,y):\n",
        "    ones = np.ones(X.shape[0])\n",
        "    X = np.column_stack([ones,X])\n",
        "\n",
        "    XTX = X.T.dot(X)\n",
        "    XTX_inv = np.linalg.inv(XTX)\n",
        "    w = XTX_inv.dot(X.T).dot(y)\n",
        "\n",
        "    return w[0],w[1:]\n",
        "\n",
        "  #rmse\n",
        "  def rmse(y, y_pred):\n",
        "    error = y_pred - y\n",
        "    mse = (error ** 2).mean()\n",
        "    return np.sqrt(mse)\n",
        "\n",
        "  X_train = prepare_X(df_train)\n",
        "  X_val = prepare_X(df_val)\n",
        "\n",
        "  w_0, w = train_linear_regression(X_train, y_train)\n",
        "  y_pred = w_0 + X_val.dot(w)\n",
        "  print(i, (rmse(y_val, y_pred)))\n",
        "  rmse_list.append(str(i) + str(' rmse: ')+ str(rmse(y_val, y_pred)))\n",
        "  rmse_num_list.append(rmse(y_val, y_pred))\n",
        "\n",
        "\n",
        "\n",
        "\n"
      ],
      "metadata": {
        "colab": {
          "base_uri": "https://localhost:8080/"
        },
        "id": "lIXdOdlegsit",
        "outputId": "656bdece-331d-4669-8d12-ccc441e87626"
      },
      "execution_count": 122,
      "outputs": [
        {
          "output_type": "stream",
          "name": "stdout",
          "text": [
            "0 0.33773871600429795\n",
            "1 0.3377999353665367\n",
            "2 0.33842870067535874\n",
            "3 0.33200494683039145\n",
            "4 0.33944518625559017\n",
            "5 0.34338197052661196\n",
            "6 0.33853302117699696\n",
            "7 0.34687476972995035\n",
            "8 0.35127368659627567\n",
            "9 0.3341558266520752\n"
          ]
        }
      ]
    },
    {
      "cell_type": "code",
      "source": [
        "std = np.std(rmse_num_list)"
      ],
      "metadata": {
        "id": "o_8v-N0Sj4ln"
      },
      "execution_count": 123,
      "outputs": []
    },
    {
      "cell_type": "code",
      "source": [
        "round(std,3)"
      ],
      "metadata": {
        "colab": {
          "base_uri": "https://localhost:8080/"
        },
        "id": "E-zdjQI1kEWZ",
        "outputId": "b73eb31a-4eb2-4379-d200-401edec606ae"
      },
      "execution_count": 125,
      "outputs": [
        {
          "output_type": "execute_result",
          "data": {
            "text/plain": [
              "0.005"
            ]
          },
          "metadata": {},
          "execution_count": 125
        }
      ]
    },
    {
      "cell_type": "code",
      "source": [
        "#question 6\n",
        "\n",
        "for i in [9]:\n",
        "  #Seed and create shuffling 60/20/20 distro\n",
        "  np.random.seed(i)\n",
        "  n = len(df)\n",
        "  n_val = int(0.2*n)\n",
        "  n_test = int(0.2*n)\n",
        "  n_train = n - (n_val+n_test)\n",
        "  idx = np.arange(n)\n",
        "  np.random.shuffle(idx)\n",
        "  df_shuffled = df.iloc[idx]\n",
        "\n",
        "  #create shuffled dfs\n",
        "  df_train = df_shuffled.iloc[:n_train].copy()\n",
        "  df_val = df_shuffled.iloc[n_train:n_train+n_val].copy()\n",
        "  df_test = df_shuffled.iloc[n_train+n_val:].copy()\n",
        "\n",
        "  df_train = df_train.reset_index(drop=True)\n",
        "  df_val = df_val.reset_index(drop=True)\n",
        "  df_test = df_test.reset_index(drop=True)\n",
        "\n",
        "  #separate the output\n",
        "  y_train_orig = df_train['median_house_value'].values\n",
        "  y_test_orig = df_test['median_house_value'].values\n",
        "  y_val_orig = df_val['median_house_value'].values\n",
        "\n",
        "  #log transformation\n",
        "  y_train = np.log1p(df_train['median_house_value'].values)\n",
        "  y_test = np.log1p(df_test['median_house_value'].values)\n",
        "  y_val = np.log1p(df_val['median_house_value'].values)\n",
        "\n",
        "  #delete from training datasets\n",
        "  del df_train['median_house_value']\n",
        "  del df_val['median_house_value']\n",
        "  del df_test['median_house_value']\n",
        "\n",
        "  #prepare X array\n",
        "  def prepare_X(df):\n",
        "    df_num = df.copy()\n",
        "    df_num = df_num.fillna(0)\n",
        "    X = df_num.values\n",
        "    return X\n",
        "\n",
        "  #lets train w regularization and r =0.001\n",
        "  def train_linear_regression_reg(X, y, r=0.001):\n",
        "      ones = np.ones(X.shape[0])\n",
        "      X = np.column_stack([ones, X])\n",
        "\n",
        "      XTX = X.T.dot(X)\n",
        "      reg = r * np.eye(XTX.shape[0])\n",
        "      XTX = XTX + reg\n",
        "\n",
        "      XTX_inv = np.linalg.inv(XTX)\n",
        "      w = XTX_inv.dot(X.T).dot(y)\n",
        "\n",
        "      return w[0], w[1:]\n",
        "\n",
        "  #rmse\n",
        "  def rmse(y, y_pred):\n",
        "    error = y_pred - y\n",
        "    mse = (error ** 2).mean()\n",
        "    return np.sqrt(mse)\n",
        "\n",
        "  #full train datasets\n",
        "\n",
        "  df_full_train = pd.concat([df_train,df_val])\n",
        "  df_full_train = df_full_train.reset_index(drop=True)\n",
        "\n",
        "  X_full_train = prepare_X(df_full_train)\n",
        "  y_full_train = np.concatenate([y_train,y_val])\n",
        "\n",
        "  w_0, w = train_linear_regression_reg(X_full_train, y_full_train, r =0.001)\n",
        "  X_test = prepare_X(df_test)\n",
        "  y_pred = w_0 + X_test.dot(w)\n",
        "  score = ((rmse(y_test, y_pred)))\n",
        "  print(score)\n",
        "\n",
        "\n",
        "\n",
        "\n",
        "\n"
      ],
      "metadata": {
        "colab": {
          "base_uri": "https://localhost:8080/"
        },
        "id": "1XQpNBuukITK",
        "outputId": "bc7b9f17-edd6-4c03-eca7-782356df6f0e"
      },
      "execution_count": 129,
      "outputs": [
        {
          "output_type": "stream",
          "name": "stdout",
          "text": [
            "0.33498993366147484\n"
          ]
        }
      ]
    },
    {
      "cell_type": "code",
      "source": [],
      "metadata": {
        "id": "xrHkEFSMmeS6"
      },
      "execution_count": null,
      "outputs": []
    }
  ]
}