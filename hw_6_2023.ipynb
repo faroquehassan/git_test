{
  "nbformat": 4,
  "nbformat_minor": 0,
  "metadata": {
    "colab": {
      "provenance": [],
      "authorship_tag": "ABX9TyOuUC3t6xA4QQLsZ8uA0Dhx",
      "include_colab_link": true
    },
    "kernelspec": {
      "name": "python3",
      "display_name": "Python 3"
    },
    "language_info": {
      "name": "python"
    }
  },
  "cells": [
    {
      "cell_type": "markdown",
      "metadata": {
        "id": "view-in-github",
        "colab_type": "text"
      },
      "source": [
        "<a href=\"https://colab.research.google.com/github/faroquehassan/git_test/blob/main/hw_6_2023.ipynb\" target=\"_parent\"><img src=\"https://colab.research.google.com/assets/colab-badge.svg\" alt=\"Open In Colab\"/></a>"
      ]
    },
    {
      "cell_type": "code",
      "execution_count": 1,
      "metadata": {
        "id": "W_5W1-DC7AyE"
      },
      "outputs": [],
      "source": [
        "import pandas as pd\n",
        "import numpy as np"
      ]
    },
    {
      "cell_type": "code",
      "source": [
        "!wget https://raw.githubusercontent.com/alexeygrigorev/datasets/master/housing.csv\n"
      ],
      "metadata": {
        "colab": {
          "base_uri": "https://localhost:8080/"
        },
        "id": "KkYONOrD7FGB",
        "outputId": "8f564095-a957-4c07-c05d-884425806684"
      },
      "execution_count": 3,
      "outputs": [
        {
          "output_type": "stream",
          "name": "stdout",
          "text": [
            "--2023-10-22 15:06:36--  https://raw.githubusercontent.com/alexeygrigorev/datasets/master/housing.csv\n",
            "Resolving raw.githubusercontent.com (raw.githubusercontent.com)... 185.199.109.133, 185.199.108.133, 185.199.111.133, ...\n",
            "Connecting to raw.githubusercontent.com (raw.githubusercontent.com)|185.199.109.133|:443... connected.\n",
            "HTTP request sent, awaiting response... 200 OK\n",
            "Length: 1423529 (1.4M) [text/plain]\n",
            "Saving to: ‘housing.csv.1’\n",
            "\n",
            "\rhousing.csv.1         0%[                    ]       0  --.-KB/s               \rhousing.csv.1       100%[===================>]   1.36M  --.-KB/s    in 0.01s   \n",
            "\n",
            "2023-10-22 15:06:36 (131 MB/s) - ‘housing.csv.1’ saved [1423529/1423529]\n",
            "\n"
          ]
        }
      ]
    },
    {
      "cell_type": "code",
      "source": [
        "df = pd.read_csv('housing.csv')"
      ],
      "metadata": {
        "id": "3HIZyhsu7F_3"
      },
      "execution_count": 4,
      "outputs": []
    },
    {
      "cell_type": "code",
      "source": [
        "df = df[df['ocean_proximity'].isin([\"<1H OCEAN\",\"INLAND\"])]"
      ],
      "metadata": {
        "id": "gMLCrkUU7IiM"
      },
      "execution_count": 23,
      "outputs": []
    },
    {
      "cell_type": "code",
      "source": [
        "df.fillna(0,inplace=True)"
      ],
      "metadata": {
        "id": "pX-w5jHZ7Sl4"
      },
      "execution_count": 24,
      "outputs": []
    },
    {
      "cell_type": "code",
      "source": [
        "df.isnull().sum()"
      ],
      "metadata": {
        "colab": {
          "base_uri": "https://localhost:8080/"
        },
        "id": "xmqOcaEY8bu8",
        "outputId": "22219d3b-f67f-4ab9-bf19-a054b80b9cee"
      },
      "execution_count": 27,
      "outputs": [
        {
          "output_type": "execute_result",
          "data": {
            "text/plain": [
              "longitude             0\n",
              "latitude              0\n",
              "housing_median_age    0\n",
              "total_rooms           0\n",
              "total_bedrooms        0\n",
              "population            0\n",
              "households            0\n",
              "median_income         0\n",
              "median_house_value    0\n",
              "ocean_proximity       0\n",
              "dtype: int64"
            ]
          },
          "metadata": {},
          "execution_count": 27
        }
      ]
    },
    {
      "cell_type": "code",
      "source": [
        "df['median_house_value'] = np.log1p(df['median_house_value'])"
      ],
      "metadata": {
        "id": "nNPHU5mJ8cFk"
      },
      "execution_count": 29,
      "outputs": []
    },
    {
      "cell_type": "code",
      "source": [
        "from sklearn.model_selection import train_test_split"
      ],
      "metadata": {
        "id": "_wD8Fqzz8hPv"
      },
      "execution_count": 31,
      "outputs": []
    },
    {
      "cell_type": "code",
      "source": [
        "df_full_train, df_test = train_test_split(df, test_size = 0.2,random_state = 1)\n",
        "df_train, df_val = train_test_split(df_full_train, test_size = 0.25, random_state =1)"
      ],
      "metadata": {
        "id": "67wB3fBd84pN"
      },
      "execution_count": 33,
      "outputs": []
    },
    {
      "cell_type": "code",
      "source": [
        "df_train.reset_index(drop=True,inplace=True)\n",
        "df_val.reset_index(drop=True,inplace=True)\n",
        "df_test.reset_index(drop=True,inplace=True)\n",
        "\n",
        "y_train = df_train['median_house_value'].values\n",
        "y_val = df_val['median_house_value'].values\n",
        "y_test = df_test['median_house_value'].values\n",
        "\n",
        "del df_train['median_house_value']\n",
        "del df_test['median_house_value']\n",
        "del df_val['median_house_value']"
      ],
      "metadata": {
        "id": "cnRNTT6f9laL"
      },
      "execution_count": 36,
      "outputs": []
    },
    {
      "cell_type": "code",
      "source": [
        "from sklearn.tree import DecisionTreeRegressor\n",
        "from sklearn.feature_extraction import DictVectorizer\n",
        "from sklearn.metrics import roc_auc_score"
      ],
      "metadata": {
        "id": "phovufvo-CMu"
      },
      "execution_count": 46,
      "outputs": []
    },
    {
      "cell_type": "code",
      "source": [
        "dv = DictVectorizer(sparse = True)"
      ],
      "metadata": {
        "id": "f7HnGOzE-HIU"
      },
      "execution_count": 39,
      "outputs": []
    },
    {
      "cell_type": "code",
      "source": [
        "train_dicts = df_train.to_dict(orient='records')"
      ],
      "metadata": {
        "id": "hOHmGlCU-RD_"
      },
      "execution_count": 41,
      "outputs": []
    },
    {
      "cell_type": "code",
      "source": [
        "X_train = dv.fit_transform(train_dicts)"
      ],
      "metadata": {
        "id": "cmT9K9XN-WhY"
      },
      "execution_count": 43,
      "outputs": []
    },
    {
      "cell_type": "code",
      "source": [
        "dt = DecisionTreeRegressor(max_depth = 1)\n",
        "dt.fit(X_train,y_train)"
      ],
      "metadata": {
        "colab": {
          "base_uri": "https://localhost:8080/",
          "height": 75
        },
        "id": "ROUFxWFR-eKS",
        "outputId": "819d551b-2c68-4b31-b393-054cb538c66e"
      },
      "execution_count": 47,
      "outputs": [
        {
          "output_type": "execute_result",
          "data": {
            "text/plain": [
              "DecisionTreeRegressor(max_depth=1)"
            ],
            "text/html": [
              "<style>#sk-container-id-1 {color: black;background-color: white;}#sk-container-id-1 pre{padding: 0;}#sk-container-id-1 div.sk-toggleable {background-color: white;}#sk-container-id-1 label.sk-toggleable__label {cursor: pointer;display: block;width: 100%;margin-bottom: 0;padding: 0.3em;box-sizing: border-box;text-align: center;}#sk-container-id-1 label.sk-toggleable__label-arrow:before {content: \"▸\";float: left;margin-right: 0.25em;color: #696969;}#sk-container-id-1 label.sk-toggleable__label-arrow:hover:before {color: black;}#sk-container-id-1 div.sk-estimator:hover label.sk-toggleable__label-arrow:before {color: black;}#sk-container-id-1 div.sk-toggleable__content {max-height: 0;max-width: 0;overflow: hidden;text-align: left;background-color: #f0f8ff;}#sk-container-id-1 div.sk-toggleable__content pre {margin: 0.2em;color: black;border-radius: 0.25em;background-color: #f0f8ff;}#sk-container-id-1 input.sk-toggleable__control:checked~div.sk-toggleable__content {max-height: 200px;max-width: 100%;overflow: auto;}#sk-container-id-1 input.sk-toggleable__control:checked~label.sk-toggleable__label-arrow:before {content: \"▾\";}#sk-container-id-1 div.sk-estimator input.sk-toggleable__control:checked~label.sk-toggleable__label {background-color: #d4ebff;}#sk-container-id-1 div.sk-label input.sk-toggleable__control:checked~label.sk-toggleable__label {background-color: #d4ebff;}#sk-container-id-1 input.sk-hidden--visually {border: 0;clip: rect(1px 1px 1px 1px);clip: rect(1px, 1px, 1px, 1px);height: 1px;margin: -1px;overflow: hidden;padding: 0;position: absolute;width: 1px;}#sk-container-id-1 div.sk-estimator {font-family: monospace;background-color: #f0f8ff;border: 1px dotted black;border-radius: 0.25em;box-sizing: border-box;margin-bottom: 0.5em;}#sk-container-id-1 div.sk-estimator:hover {background-color: #d4ebff;}#sk-container-id-1 div.sk-parallel-item::after {content: \"\";width: 100%;border-bottom: 1px solid gray;flex-grow: 1;}#sk-container-id-1 div.sk-label:hover label.sk-toggleable__label {background-color: #d4ebff;}#sk-container-id-1 div.sk-serial::before {content: \"\";position: absolute;border-left: 1px solid gray;box-sizing: border-box;top: 0;bottom: 0;left: 50%;z-index: 0;}#sk-container-id-1 div.sk-serial {display: flex;flex-direction: column;align-items: center;background-color: white;padding-right: 0.2em;padding-left: 0.2em;position: relative;}#sk-container-id-1 div.sk-item {position: relative;z-index: 1;}#sk-container-id-1 div.sk-parallel {display: flex;align-items: stretch;justify-content: center;background-color: white;position: relative;}#sk-container-id-1 div.sk-item::before, #sk-container-id-1 div.sk-parallel-item::before {content: \"\";position: absolute;border-left: 1px solid gray;box-sizing: border-box;top: 0;bottom: 0;left: 50%;z-index: -1;}#sk-container-id-1 div.sk-parallel-item {display: flex;flex-direction: column;z-index: 1;position: relative;background-color: white;}#sk-container-id-1 div.sk-parallel-item:first-child::after {align-self: flex-end;width: 50%;}#sk-container-id-1 div.sk-parallel-item:last-child::after {align-self: flex-start;width: 50%;}#sk-container-id-1 div.sk-parallel-item:only-child::after {width: 0;}#sk-container-id-1 div.sk-dashed-wrapped {border: 1px dashed gray;margin: 0 0.4em 0.5em 0.4em;box-sizing: border-box;padding-bottom: 0.4em;background-color: white;}#sk-container-id-1 div.sk-label label {font-family: monospace;font-weight: bold;display: inline-block;line-height: 1.2em;}#sk-container-id-1 div.sk-label-container {text-align: center;}#sk-container-id-1 div.sk-container {/* jupyter's `normalize.less` sets `[hidden] { display: none; }` but bootstrap.min.css set `[hidden] { display: none !important; }` so we also need the `!important` here to be able to override the default hidden behavior on the sphinx rendered scikit-learn.org. See: https://github.com/scikit-learn/scikit-learn/issues/21755 */display: inline-block !important;position: relative;}#sk-container-id-1 div.sk-text-repr-fallback {display: none;}</style><div id=\"sk-container-id-1\" class=\"sk-top-container\"><div class=\"sk-text-repr-fallback\"><pre>DecisionTreeRegressor(max_depth=1)</pre><b>In a Jupyter environment, please rerun this cell to show the HTML representation or trust the notebook. <br />On GitHub, the HTML representation is unable to render, please try loading this page with nbviewer.org.</b></div><div class=\"sk-container\" hidden><div class=\"sk-item\"><div class=\"sk-estimator sk-toggleable\"><input class=\"sk-toggleable__control sk-hidden--visually\" id=\"sk-estimator-id-1\" type=\"checkbox\" checked><label for=\"sk-estimator-id-1\" class=\"sk-toggleable__label sk-toggleable__label-arrow\">DecisionTreeRegressor</label><div class=\"sk-toggleable__content\"><pre>DecisionTreeRegressor(max_depth=1)</pre></div></div></div></div></div>"
            ]
          },
          "metadata": {},
          "execution_count": 47
        }
      ]
    },
    {
      "cell_type": "code",
      "source": [
        "from sklearn.tree import export_text"
      ],
      "metadata": {
        "id": "uysHGpKS-m8r"
      },
      "execution_count": 48,
      "outputs": []
    },
    {
      "cell_type": "code",
      "source": [
        "print(export_text(dt, feature_names = list(dv.get_feature_names_out())))"
      ],
      "metadata": {
        "colab": {
          "base_uri": "https://localhost:8080/"
        },
        "id": "gK4_wGih_BQA",
        "outputId": "3065df72-55c7-4dee-e3d0-515bca2d55c6"
      },
      "execution_count": 49,
      "outputs": [
        {
          "output_type": "stream",
          "name": "stdout",
          "text": [
            "|--- ocean_proximity=<1H OCEAN <= 0.50\n",
            "|   |--- value: [11.61]\n",
            "|--- ocean_proximity=<1H OCEAN >  0.50\n",
            "|   |--- value: [12.30]\n",
            "\n"
          ]
        }
      ]
    },
    {
      "cell_type": "code",
      "source": [
        "#Q1 - ocean_proximity"
      ],
      "metadata": {
        "id": "6XEqNMCM_C40"
      },
      "execution_count": 50,
      "outputs": []
    },
    {
      "cell_type": "code",
      "source": [
        "from sklearn.ensemble import RandomForestRegressor"
      ],
      "metadata": {
        "id": "Q9wUcxaa_G0a"
      },
      "execution_count": 52,
      "outputs": []
    },
    {
      "cell_type": "code",
      "source": [
        "rf = RandomForestRegressor(n_estimators=10, random_state=1,n_jobs=-1)\n",
        "rf.fit(X_train,y_train)"
      ],
      "metadata": {
        "colab": {
          "base_uri": "https://localhost:8080/",
          "height": 75
        },
        "id": "1OX949eN_Ttc",
        "outputId": "2b26f300-6d4b-4ca5-d915-41ce87a11a71"
      },
      "execution_count": 54,
      "outputs": [
        {
          "output_type": "execute_result",
          "data": {
            "text/plain": [
              "RandomForestRegressor(n_estimators=10, n_jobs=-1, random_state=1)"
            ],
            "text/html": [
              "<style>#sk-container-id-2 {color: black;background-color: white;}#sk-container-id-2 pre{padding: 0;}#sk-container-id-2 div.sk-toggleable {background-color: white;}#sk-container-id-2 label.sk-toggleable__label {cursor: pointer;display: block;width: 100%;margin-bottom: 0;padding: 0.3em;box-sizing: border-box;text-align: center;}#sk-container-id-2 label.sk-toggleable__label-arrow:before {content: \"▸\";float: left;margin-right: 0.25em;color: #696969;}#sk-container-id-2 label.sk-toggleable__label-arrow:hover:before {color: black;}#sk-container-id-2 div.sk-estimator:hover label.sk-toggleable__label-arrow:before {color: black;}#sk-container-id-2 div.sk-toggleable__content {max-height: 0;max-width: 0;overflow: hidden;text-align: left;background-color: #f0f8ff;}#sk-container-id-2 div.sk-toggleable__content pre {margin: 0.2em;color: black;border-radius: 0.25em;background-color: #f0f8ff;}#sk-container-id-2 input.sk-toggleable__control:checked~div.sk-toggleable__content {max-height: 200px;max-width: 100%;overflow: auto;}#sk-container-id-2 input.sk-toggleable__control:checked~label.sk-toggleable__label-arrow:before {content: \"▾\";}#sk-container-id-2 div.sk-estimator input.sk-toggleable__control:checked~label.sk-toggleable__label {background-color: #d4ebff;}#sk-container-id-2 div.sk-label input.sk-toggleable__control:checked~label.sk-toggleable__label {background-color: #d4ebff;}#sk-container-id-2 input.sk-hidden--visually {border: 0;clip: rect(1px 1px 1px 1px);clip: rect(1px, 1px, 1px, 1px);height: 1px;margin: -1px;overflow: hidden;padding: 0;position: absolute;width: 1px;}#sk-container-id-2 div.sk-estimator {font-family: monospace;background-color: #f0f8ff;border: 1px dotted black;border-radius: 0.25em;box-sizing: border-box;margin-bottom: 0.5em;}#sk-container-id-2 div.sk-estimator:hover {background-color: #d4ebff;}#sk-container-id-2 div.sk-parallel-item::after {content: \"\";width: 100%;border-bottom: 1px solid gray;flex-grow: 1;}#sk-container-id-2 div.sk-label:hover label.sk-toggleable__label {background-color: #d4ebff;}#sk-container-id-2 div.sk-serial::before {content: \"\";position: absolute;border-left: 1px solid gray;box-sizing: border-box;top: 0;bottom: 0;left: 50%;z-index: 0;}#sk-container-id-2 div.sk-serial {display: flex;flex-direction: column;align-items: center;background-color: white;padding-right: 0.2em;padding-left: 0.2em;position: relative;}#sk-container-id-2 div.sk-item {position: relative;z-index: 1;}#sk-container-id-2 div.sk-parallel {display: flex;align-items: stretch;justify-content: center;background-color: white;position: relative;}#sk-container-id-2 div.sk-item::before, #sk-container-id-2 div.sk-parallel-item::before {content: \"\";position: absolute;border-left: 1px solid gray;box-sizing: border-box;top: 0;bottom: 0;left: 50%;z-index: -1;}#sk-container-id-2 div.sk-parallel-item {display: flex;flex-direction: column;z-index: 1;position: relative;background-color: white;}#sk-container-id-2 div.sk-parallel-item:first-child::after {align-self: flex-end;width: 50%;}#sk-container-id-2 div.sk-parallel-item:last-child::after {align-self: flex-start;width: 50%;}#sk-container-id-2 div.sk-parallel-item:only-child::after {width: 0;}#sk-container-id-2 div.sk-dashed-wrapped {border: 1px dashed gray;margin: 0 0.4em 0.5em 0.4em;box-sizing: border-box;padding-bottom: 0.4em;background-color: white;}#sk-container-id-2 div.sk-label label {font-family: monospace;font-weight: bold;display: inline-block;line-height: 1.2em;}#sk-container-id-2 div.sk-label-container {text-align: center;}#sk-container-id-2 div.sk-container {/* jupyter's `normalize.less` sets `[hidden] { display: none; }` but bootstrap.min.css set `[hidden] { display: none !important; }` so we also need the `!important` here to be able to override the default hidden behavior on the sphinx rendered scikit-learn.org. See: https://github.com/scikit-learn/scikit-learn/issues/21755 */display: inline-block !important;position: relative;}#sk-container-id-2 div.sk-text-repr-fallback {display: none;}</style><div id=\"sk-container-id-2\" class=\"sk-top-container\"><div class=\"sk-text-repr-fallback\"><pre>RandomForestRegressor(n_estimators=10, n_jobs=-1, random_state=1)</pre><b>In a Jupyter environment, please rerun this cell to show the HTML representation or trust the notebook. <br />On GitHub, the HTML representation is unable to render, please try loading this page with nbviewer.org.</b></div><div class=\"sk-container\" hidden><div class=\"sk-item\"><div class=\"sk-estimator sk-toggleable\"><input class=\"sk-toggleable__control sk-hidden--visually\" id=\"sk-estimator-id-2\" type=\"checkbox\" checked><label for=\"sk-estimator-id-2\" class=\"sk-toggleable__label sk-toggleable__label-arrow\">RandomForestRegressor</label><div class=\"sk-toggleable__content\"><pre>RandomForestRegressor(n_estimators=10, n_jobs=-1, random_state=1)</pre></div></div></div></div></div>"
            ]
          },
          "metadata": {},
          "execution_count": 54
        }
      ]
    },
    {
      "cell_type": "code",
      "source": [
        "val_dicts = df_val.to_dict(orient='records')\n",
        "X_val = dv.transform(val_dicts)\n",
        "y_pred = rf.predict(X_val)"
      ],
      "metadata": {
        "id": "VZqjRX5J_e7Y"
      },
      "execution_count": 60,
      "outputs": []
    },
    {
      "cell_type": "code",
      "source": [
        "from sklearn.metrics import mean_squared_error\n",
        "mse = mean_squared_error(y_val,y_pred)\n",
        "np.sqrt(mse)"
      ],
      "metadata": {
        "colab": {
          "base_uri": "https://localhost:8080/"
        },
        "id": "fP3V5t-R_leB",
        "outputId": "ba7b43d9-42ce-4675-92d5-f43811bb29fd"
      },
      "execution_count": 62,
      "outputs": [
        {
          "output_type": "execute_result",
          "data": {
            "text/plain": [
              "0.24495290030597147"
            ]
          },
          "metadata": {},
          "execution_count": 62
        }
      ]
    },
    {
      "cell_type": "code",
      "source": [
        "#Q2 - 0.245 is RMSE"
      ],
      "metadata": {
        "id": "zD4NItHH_6Ls"
      },
      "execution_count": 63,
      "outputs": []
    },
    {
      "cell_type": "code",
      "source": [
        "scores = []"
      ],
      "metadata": {
        "id": "3bezYov0AugR"
      },
      "execution_count": 64,
      "outputs": []
    },
    {
      "cell_type": "code",
      "source": [
        "for i in range(10,201,10):\n",
        "  rf = RandomForestRegressor(n_estimators=i, random_state=1,n_jobs=-1)\n",
        "  rf.fit(X_train,y_train)\n",
        "  y_pred = rf.predict(X_val)\n",
        "\n",
        "  mse = mean_squared_error(y_val,y_pred)\n",
        "  rmse = np.sqrt(mse)\n",
        "  scores.append((i, rmse))"
      ],
      "metadata": {
        "id": "H9UOUBHbAQ7F"
      },
      "execution_count": 67,
      "outputs": []
    },
    {
      "cell_type": "code",
      "source": [
        "df_scores = pd.DataFrame(scores, columns = (['i','rmse']))"
      ],
      "metadata": {
        "id": "P95XwYS2A2J4"
      },
      "execution_count": 70,
      "outputs": []
    },
    {
      "cell_type": "code",
      "source": [
        "import seaborn as sns"
      ],
      "metadata": {
        "id": "HYpLrf6qD-wO"
      },
      "execution_count": 71,
      "outputs": []
    },
    {
      "cell_type": "code",
      "source": [
        "sns.heatmap(df_scores,annot=True, fmt='.3f')"
      ],
      "metadata": {
        "colab": {
          "base_uri": "https://localhost:8080/",
          "height": 452
        },
        "id": "IJ4LvTi-DrWq",
        "outputId": "71d8369b-e8f9-4add-8a76-48b6afb33a6f"
      },
      "execution_count": 73,
      "outputs": [
        {
          "output_type": "execute_result",
          "data": {
            "text/plain": [
              "<Axes: >"
            ]
          },
          "metadata": {},
          "execution_count": 73
        },
        {
          "output_type": "display_data",
          "data": {
            "text/plain": [
              "<Figure size 640x480 with 2 Axes>"
            ],
            "image/png": "[encoded data removed]"
          },
          "metadata": {}
        }
      ]
    },
    {
      "cell_type": "code",
      "source": [
        "#Q3 - n_estimators = 160, rmse stops improving"
      ],
      "metadata": {
        "id": "20FDifP5ECnB"
      },
      "execution_count": null,
      "outputs": []
    },
    {
      "cell_type": "code",
      "source": [
        "scores = []"
      ],
      "metadata": {
        "id": "iWzk40zCETGu"
      },
      "execution_count": 74,
      "outputs": []
    },
    {
      "cell_type": "code",
      "source": [
        "for i in (10,15,20,25):\n",
        "  for j in range(10,201,10):\n",
        "    print(\"d:\", i,\" n:\",j)\n",
        "    rf = RandomForestRegressor(max_depth = i, n_estimators=j, random_state=1,n_jobs=-1)\n",
        "    rf.fit(X_train,y_train)\n",
        "    y_pred = rf.predict(X_val)\n",
        "\n",
        "    mse = mean_squared_error(y_val,y_pred)\n",
        "    rmse = np.sqrt(mse)\n",
        "    scores.append((i,j,rmse))\n",
        "    print(\"rmse: \",rmse)"
      ],
      "metadata": {
        "colab": {
          "base_uri": "https://localhost:8080/"
        },
        "id": "1dI45XJ6ESlm",
        "outputId": "e34f4dcd-ab33-4bb2-99af-78c385afa749"
      },
      "execution_count": null,
      "outputs": [
        {
          "output_type": "stream",
          "name": "stdout",
          "text": [
            "d: 10  n: 10\n",
            "rmse:  0.250682176668064\n",
            "d: 10  n: 20\n",
            "rmse:  0.24745502781785716\n",
            "d: 10  n: 30\n",
            "rmse:  0.24626379186617842\n",
            "d: 10  n: 40\n",
            "rmse:  0.24502936288687294\n",
            "d: 10  n: 50\n",
            "rmse:  0.24543003121441526\n",
            "d: 10  n: 60\n",
            "rmse:  0.24522113262934922\n",
            "d: 10  n: 70\n",
            "rmse:  0.24528983725642312\n",
            "d: 10  n: 80\n",
            "rmse:  0.24553630580063834\n",
            "d: 10  n: 90\n",
            "rmse:  0.2454521292171777\n",
            "d: 10  n: 100\n",
            "rmse:  0.24537002577206934\n",
            "d: 10  n: 110\n",
            "rmse:  0.24526239970363065\n",
            "d: 10  n: 120\n",
            "rmse:  0.24505304321886626\n",
            "d: 10  n: 130\n",
            "rmse:  0.2447899181250307\n",
            "d: 10  n: 140\n",
            "rmse:  0.24457214573772543\n",
            "d: 10  n: 150\n",
            "rmse:  0.24455351098981432\n",
            "d: 10  n: 160\n",
            "rmse:  0.24445890373792142\n",
            "d: 10  n: 170\n",
            "rmse:  0.24441806155085397\n",
            "d: 10  n: 180\n",
            "rmse:  0.24452331688334136\n",
            "d: 10  n: 190\n",
            "rmse:  0.24471986806235063\n",
            "d: 10  n: 200\n",
            "rmse:  0.24472926841080211\n",
            "d: 15  n: 10\n",
            "rmse:  0.24572727111119222\n",
            "d: 15  n: 20\n",
            "rmse:  0.2395288101057743\n",
            "d: 15  n: 30\n",
            "rmse:  0.2378130659762502\n",
            "d: 15  n: 40\n",
            "rmse:  0.23590339688070872\n",
            "d: 15  n: 50\n",
            "rmse:  0.23592951814284155\n",
            "d: 15  n: 60\n",
            "rmse:  0.2356242947351625\n",
            "d: 15  n: 70\n",
            "rmse:  0.23553884761931704\n",
            "d: 15  n: 80\n",
            "rmse:  0.2357677854226377\n",
            "d: 15  n: 90\n",
            "rmse:  0.23544891559649936\n",
            "d: 15  n: 100\n",
            "rmse:  0.23532549754233717\n",
            "d: 15  n: 110\n",
            "rmse:  0.23515318858811746\n",
            "d: 15  n: 120\n",
            "rmse:  0.23492912233163657\n",
            "d: 15  n: 130\n",
            "rmse:  0.23478844627126158\n",
            "d: 15  n: 140\n",
            "rmse:  0.23460043326277036\n",
            "d: 15  n: 150\n",
            "rmse:  0.23447733638947257\n",
            "d: 15  n: 160\n",
            "rmse:  0.23429697790937257\n",
            "d: 15  n: 170\n",
            "rmse:  0.23427133014925058\n",
            "d: 15  n: 180\n",
            "rmse:  0.23445037294764126\n",
            "d: 15  n: 190\n",
            "rmse:  0.2346721435289138\n",
            "d: 15  n: 200\n",
            "rmse:  0.23451511017717172\n",
            "d: 20  n: 10\n",
            "rmse:  0.24531287899896317\n",
            "d: 20  n: 20\n",
            "rmse:  0.23898344555789586\n",
            "d: 20  n: 30\n",
            "rmse:  0.2371144209831229\n",
            "d: 20  n: 40\n",
            "rmse:  0.23552346074295835\n",
            "d: 20  n: 50\n",
            "rmse:  0.23513350391123777\n",
            "d: 20  n: 60\n",
            "rmse:  0.23479414531063247\n",
            "d: 20  n: 70\n",
            "rmse:  0.23470290796062349\n",
            "d: 20  n: 80\n",
            "rmse:  0.2349068612477833\n",
            "d: 20  n: 90\n",
            "rmse:  0.23480574623144362\n",
            "d: 20  n: 100\n",
            "rmse:  0.23455850419971766\n",
            "d: 20  n: 110\n",
            "rmse:  0.2344280836486\n",
            "d: 20  n: 120\n",
            "rmse:  0.23419399386460216\n",
            "d: 20  n: 130\n",
            "rmse:  0.23401671099027274\n",
            "d: 20  n: 140\n",
            "rmse:  0.23385067523574332\n",
            "d: 20  n: 150\n",
            "rmse:  0.23381427083222509\n",
            "d: 20  n: 160\n",
            "rmse:  0.23372902948230967\n",
            "d: 20  n: 170\n",
            "rmse:  0.23373879899221864\n",
            "d: 20  n: 180\n",
            "rmse:  0.23394370126812306\n",
            "d: 20  n: 190\n",
            "rmse:  0.23417599087731844\n",
            "d: 20  n: 200\n",
            "rmse:  0.23394661830015237\n",
            "d: 25  n: 10\n",
            "rmse:  0.2450798810031633\n",
            "d: 25  n: 20\n",
            "rmse:  0.23866342677481667\n",
            "d: 25  n: 30\n",
            "rmse:  0.2364524264745961\n",
            "d: 25  n: 40\n",
            "rmse:  0.2349366919357812\n",
            "d: 25  n: 50\n",
            "rmse:  0.2345872115806452\n",
            "d: 25  n: 60\n",
            "rmse:  0.23425988609745738\n",
            "d: 25  n: 70\n",
            "rmse:  0.2341374618747842\n",
            "d: 25  n: 80\n",
            "rmse:  0.234297468540237\n",
            "d: 25  n: 90\n",
            "rmse:  0.23429664509340223\n",
            "d: 25  n: 100\n",
            "rmse:  0.23424861767332997\n",
            "d: 25  n: 110\n",
            "rmse:  0.23413360881044995\n",
            "d: 25  n: 120\n",
            "rmse:  0.23394728395544923\n",
            "d: 25  n: 130\n",
            "rmse:  0.23384932947546672\n",
            "d: 25  n: 140\n",
            "rmse:  0.2336350768687152\n",
            "d: 25  n: 150\n",
            "rmse:  0.2335354096062111\n",
            "d: 25  n: 160\n",
            "rmse:  0.23339501807887209\n",
            "d: 25  n: 170\n"
          ]
        }
      ]
    },
    {
      "cell_type": "code",
      "source": [
        "df_scores = pd.DataFrame(scores, columns = (['i','j','rmse']))\n",
        "df_scores.groupby(df_scores['i']).mean().sort_values(by='rmse',ascending=True)"
      ],
      "metadata": {
        "id": "C68whIxpE5gH"
      },
      "execution_count": null,
      "outputs": []
    },
    {
      "cell_type": "code",
      "source": [
        "#Q4 - max_depth 25"
      ],
      "metadata": {
        "id": "x4hUCvcRGfPZ"
      },
      "execution_count": null,
      "outputs": []
    },
    {
      "cell_type": "code",
      "source": [
        "rf = RandomForestRegressor(max_depth = 20, n_estimators=10, random_state=1,n_jobs=-1)\n",
        "rf.fit(X_train,y_train)\n",
        "\n",
        "feat_importances = pd.Series(rf.feature_importances_, index=list(dv.get_feature_names_out()))"
      ],
      "metadata": {
        "id": "Dl-tzuItGgBT"
      },
      "execution_count": null,
      "outputs": []
    },
    {
      "cell_type": "code",
      "source": [
        "feat_importances.sort_values(ascending=False)"
      ],
      "metadata": {
        "id": "cfI8Chn1Hvnj"
      },
      "execution_count": null,
      "outputs": []
    },
    {
      "cell_type": "code",
      "source": [
        "#Q5 - Median Income is the most important feature"
      ],
      "metadata": {
        "id": "FhItcJhHH1Sn"
      },
      "execution_count": null,
      "outputs": []
    },
    {
      "cell_type": "code",
      "source": [
        "import xgboost as xgb"
      ],
      "metadata": {
        "id": "_El8t2zpLVK4"
      },
      "execution_count": null,
      "outputs": []
    },
    {
      "cell_type": "code",
      "source": [
        "list(dv.get_feature_names_out())"
      ],
      "metadata": {
        "id": "fMjuUaEjLV1y"
      },
      "execution_count": null,
      "outputs": []
    },
    {
      "cell_type": "code",
      "source": [
        "features = list(dv.get_feature_names_out())\n",
        "features[5] = 'ocean_proximity=1H OCEAN'\n",
        "dtrain = xgb.DMatrix(X_train, label=y_train, feature_names = features)\n",
        "dval = xgb.DMatrix(X_val, label=y_val, feature_names = features)"
      ],
      "metadata": {
        "id": "HBS4h3LKLWk8"
      },
      "execution_count": null,
      "outputs": []
    },
    {
      "cell_type": "code",
      "source": [
        "xgb_params = {\n",
        "    'eta': 0.3,\n",
        "    'max_depth': 6,\n",
        "    'min_child_weight': 1,\n",
        "\n",
        "    'objective': 'reg:squarederror',\n",
        "    'nthread': 8,\n",
        "\n",
        "    'seed': 1,\n",
        "    'verbosity': 1,\n",
        "}\n",
        "\n",
        "watchlist = [(dtrain, 'train'), (dval,'val')]"
      ],
      "metadata": {
        "id": "KdzAsIXWLXHc"
      },
      "execution_count": null,
      "outputs": []
    },
    {
      "cell_type": "code",
      "source": [
        "%%capture output\n",
        "model = xgb.train(xgb_params,dtrain, evals = watchlist,num_boost_round=100)"
      ],
      "metadata": {
        "id": "-2nwYR8RLX36"
      },
      "execution_count": null,
      "outputs": []
    },
    {
      "cell_type": "code",
      "source": [
        "def parse_xgb_output(output):\n",
        "    results = []\n",
        "\n",
        "    for line in output.stdout.strip().split('\\n'):\n",
        "        it_line, train_line, val_line = line.split('\\t')\n",
        "\n",
        "        it = int(it_line.strip('[]'))\n",
        "        train = float(train_line.split(':')[1])\n",
        "        val = float(val_line.split(':')[1])\n",
        "\n",
        "        results.append((it, train, val))\n",
        "\n",
        "    columns = ['num_iter', 'train_auc', 'val_auc']\n",
        "    df_results = pd.DataFrame(results, columns=columns)\n",
        "    return df_results"
      ],
      "metadata": {
        "id": "SsTJRZ49LY0x"
      },
      "execution_count": null,
      "outputs": []
    },
    {
      "cell_type": "code",
      "source": [
        "eta03_score = parse_xgb_output(output)\n",
        "eta03_score"
      ],
      "metadata": {
        "id": "fE79JJr1La7i"
      },
      "execution_count": null,
      "outputs": []
    },
    {
      "cell_type": "code",
      "source": [
        "xgb_params = {\n",
        "    'eta': 0.1,\n",
        "    'max_depth': 6,\n",
        "    'min_child_weight': 1,\n",
        "\n",
        "    'objective': 'reg:squarederror',\n",
        "    'nthread': 8,\n",
        "\n",
        "    'seed': 1,\n",
        "    'verbosity': 1,\n",
        "}"
      ],
      "metadata": {
        "id": "D0T5ItRqLf0K"
      },
      "execution_count": null,
      "outputs": []
    },
    {
      "cell_type": "code",
      "source": [
        "%%capture output\n",
        "model = xgb.train(xgb_params,dtrain, evals = watchlist,num_boost_round=100)"
      ],
      "metadata": {
        "id": "HDOLDd2BLg8F"
      },
      "execution_count": null,
      "outputs": []
    },
    {
      "cell_type": "code",
      "source": [
        "eta01_score = parse_xgb_output(output)\n",
        "eta01_score"
      ],
      "metadata": {
        "id": "DAvfOqQkLhL0"
      },
      "execution_count": null,
      "outputs": []
    },
    {
      "cell_type": "code",
      "source": [
        "#Q6 -ETA 0.3, is better"
      ],
      "metadata": {
        "id": "TxcNNUpuLlDC"
      },
      "execution_count": null,
      "outputs": []
    }
  ]
}