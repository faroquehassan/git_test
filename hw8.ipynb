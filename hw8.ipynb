{
 "cells": [
  {
   "cell_type": "code",
   "execution_count": 57,
   "id": "3913f6f4-1d10-4f1a-bfb5-0758f677bb3b",
   "metadata": {
    "execution": {
     "iopub.execute_input": "2023-11-20T01:51:43.851692Z",
     "iopub.status.busy": "2023-11-20T01:51:43.851316Z",
     "iopub.status.idle": "2023-11-20T01:51:43.854711Z",
     "shell.execute_reply": "2023-11-20T01:51:43.854106Z",
     "shell.execute_reply.started": "2023-11-20T01:51:43.851670Z"
    },
    "tags": []
   },
   "outputs": [],
   "source": [
    "# !wget https://github.com/SVizor42/ML_Zoomcamp/releases/download/bee-wasp-data/data.zip"
   ]
  },
  {
   "cell_type": "code",
   "execution_count": null,
   "id": "38158ac8-12a0-4ce1-bbb1-3e10e8da416d",
   "metadata": {
    "tags": []
   },
   "outputs": [],
   "source": [
    "# !unzip data.zip\n"
   ]
  },
  {
   "cell_type": "code",
   "execution_count": 2,
   "id": "2435338b-18d4-47d4-ac3e-dcc4f56a912a",
   "metadata": {
    "execution": {
     "iopub.execute_input": "2023-11-20T01:11:23.265952Z",
     "iopub.status.busy": "2023-11-20T01:11:23.265584Z",
     "iopub.status.idle": "2023-11-20T01:11:23.881963Z",
     "shell.execute_reply": "2023-11-20T01:11:23.881292Z",
     "shell.execute_reply.started": "2023-11-20T01:11:23.265908Z"
    },
    "tags": []
   },
   "outputs": [],
   "source": [
    "import numpy as np\n",
    "import matplotlib.pyplot as plt\n",
    "\n",
    "%matplotlib inline"
   ]
  },
  {
   "cell_type": "code",
   "execution_count": 3,
   "id": "c58ee318-8847-492c-b92d-81d558427406",
   "metadata": {
    "execution": {
     "iopub.execute_input": "2023-11-20T01:11:23.883477Z",
     "iopub.status.busy": "2023-11-20T01:11:23.883100Z",
     "iopub.status.idle": "2023-11-20T01:11:25.646973Z",
     "shell.execute_reply": "2023-11-20T01:11:25.646224Z",
     "shell.execute_reply.started": "2023-11-20T01:11:23.883456Z"
    },
    "tags": []
   },
   "outputs": [
    {
     "name": "stderr",
     "output_type": "stream",
     "text": [
      "2023-11-20 01:11:23.887341: I tensorflow/core/platform/cpu_feature_guard.cc:193] This TensorFlow binary is optimized with oneAPI Deep Neural Network Library (oneDNN) to use the following CPU instructions in performance-critical operations:  SSE4.1 SSE4.2 AVX AVX2 AVX512F AVX512_VNNI FMA\n",
      "To enable them in other operations, rebuild TensorFlow with the appropriate compiler flags.\n",
      "2023-11-20 01:11:23.974926: I tensorflow/core/util/port.cc:104] oneDNN custom operations are on. You may see slightly different numerical results due to floating-point round-off errors from different computation orders. To turn them off, set the environment variable `TF_ENABLE_ONEDNN_OPTS=0`.\n"
     ]
    }
   ],
   "source": [
    "import tensorflow as tf\n",
    "from tensorflow import keras"
   ]
  },
  {
   "cell_type": "code",
   "execution_count": 4,
   "id": "774bf712-c85b-4e86-b0eb-d94baab111ce",
   "metadata": {
    "execution": {
     "iopub.execute_input": "2023-11-20T01:11:36.609558Z",
     "iopub.status.busy": "2023-11-20T01:11:36.609004Z",
     "iopub.status.idle": "2023-11-20T01:11:36.614606Z",
     "shell.execute_reply": "2023-11-20T01:11:36.613835Z",
     "shell.execute_reply.started": "2023-11-20T01:11:36.609531Z"
    }
   },
   "outputs": [],
   "source": [
    "from tensorflow.keras.preprocessing.image import load_img"
   ]
  },
  {
   "cell_type": "code",
   "execution_count": 7,
   "id": "97db5844-7d8d-44c7-bb83-a36c099a806f",
   "metadata": {
    "execution": {
     "iopub.execute_input": "2023-11-20T01:19:06.556866Z",
     "iopub.status.busy": "2023-11-20T01:19:06.556459Z",
     "iopub.status.idle": "2023-11-20T01:19:06.561144Z",
     "shell.execute_reply": "2023-11-20T01:19:06.560326Z",
     "shell.execute_reply.started": "2023-11-20T01:19:06.556841Z"
    },
    "tags": []
   },
   "outputs": [],
   "source": [
    "from tensorflow.keras import layers\n",
    "from tensorflow.keras import models\n",
    "from tensorflow.keras import optimizers\n",
    "\n",
    "from tensorflow.keras.preprocessing.image import ImageDataGenerator\n",
    "from tensorflow.keras.preprocessing import image\n"
   ]
  },
  {
   "cell_type": "code",
   "execution_count": 23,
   "id": "05a3d438-aec9-461e-9f44-0bac9aecfadb",
   "metadata": {
    "execution": {
     "iopub.execute_input": "2023-11-20T01:24:47.085470Z",
     "iopub.status.busy": "2023-11-20T01:24:47.085083Z",
     "iopub.status.idle": "2023-11-20T01:24:47.088841Z",
     "shell.execute_reply": "2023-11-20T01:24:47.088061Z",
     "shell.execute_reply.started": "2023-11-20T01:24:47.085447Z"
    },
    "tags": []
   },
   "outputs": [],
   "source": [
    "import os\n",
    "import shutil"
   ]
  },
  {
   "cell_type": "code",
   "execution_count": 29,
   "id": "c263a2aa-d61a-436d-a34c-0de0a5565a1b",
   "metadata": {
    "execution": {
     "iopub.execute_input": "2023-11-20T01:26:32.151404Z",
     "iopub.status.busy": "2023-11-20T01:26:32.151035Z",
     "iopub.status.idle": "2023-11-20T01:26:32.154594Z",
     "shell.execute_reply": "2023-11-20T01:26:32.153924Z",
     "shell.execute_reply.started": "2023-11-20T01:26:32.151379Z"
    },
    "tags": []
   },
   "outputs": [],
   "source": [
    "train_dir = './data/train'\n",
    "test_dir = './data/test'"
   ]
  },
  {
   "cell_type": "code",
   "execution_count": 11,
   "id": "abd9e48e-fa25-4f2f-bcb0-29078bbd0887",
   "metadata": {
    "execution": {
     "iopub.execute_input": "2023-11-20T01:21:27.849752Z",
     "iopub.status.busy": "2023-11-20T01:21:27.849384Z",
     "iopub.status.idle": "2023-11-20T01:21:27.885524Z",
     "shell.execute_reply": "2023-11-20T01:21:27.884908Z",
     "shell.execute_reply.started": "2023-11-20T01:21:27.849731Z"
    },
    "tags": []
   },
   "outputs": [],
   "source": [
    "model = Sequential()\n",
    "model.add(Conv2D(32, (3, 3), activation='relu', input_shape=(150, 150, 3)))\n",
    "model.add(MaxPooling2D(pool_size=(2, 2)))\n",
    "model.add(Flatten())\n",
    "model.add(Dense(64, activation='relu'))\n",
    "model.add(Dense(1, activation='sigmoid'))\n",
    "sgd_optimizer = SGD(learning_rate=0.002, momentum=0.8)\n",
    "model.compile(optimizer=sgd_optimizer, loss='binary_crossentropy', metrics=['accuracy'])\n"
   ]
  },
  {
   "cell_type": "code",
   "execution_count": 12,
   "id": "cd945adf-1139-4da3-b5de-17435496b3b4",
   "metadata": {
    "execution": {
     "iopub.execute_input": "2023-11-20T01:21:31.602108Z",
     "iopub.status.busy": "2023-11-20T01:21:31.601555Z",
     "iopub.status.idle": "2023-11-20T01:21:31.617531Z",
     "shell.execute_reply": "2023-11-20T01:21:31.616932Z",
     "shell.execute_reply.started": "2023-11-20T01:21:31.602082Z"
    },
    "tags": []
   },
   "outputs": [
    {
     "name": "stdout",
     "output_type": "stream",
     "text": [
      "Model: \"sequential_2\"\n",
      "_________________________________________________________________\n",
      " Layer (type)                Output Shape              Param #   \n",
      "=================================================================\n",
      " conv2d_1 (Conv2D)           (None, 148, 148, 32)      896       \n",
      "                                                                 \n",
      " max_pooling2d_1 (MaxPooling  (None, 74, 74, 32)       0         \n",
      " 2D)                                                             \n",
      "                                                                 \n",
      " flatten_1 (Flatten)         (None, 175232)            0         \n",
      "                                                                 \n",
      " dense_2 (Dense)             (None, 64)                11214912  \n",
      "                                                                 \n",
      " dense_3 (Dense)             (None, 1)                 65        \n",
      "                                                                 \n",
      "=================================================================\n",
      "Total params: 11,215,873\n",
      "Trainable params: 11,215,873\n",
      "Non-trainable params: 0\n",
      "_________________________________________________________________\n"
     ]
    }
   ],
   "source": []
  },
  {
   "cell_type": "code",
   "execution_count": 13,
   "id": "5c5a4d5a-534f-46fd-937c-7aee13494f0f",
   "metadata": {
    "execution": {
     "iopub.execute_input": "2023-11-20T01:22:29.224169Z",
     "iopub.status.busy": "2023-11-20T01:22:29.223803Z",
     "iopub.status.idle": "2023-11-20T01:22:29.227443Z",
     "shell.execute_reply": "2023-11-20T01:22:29.226648Z",
     "shell.execute_reply.started": "2023-11-20T01:22:29.224143Z"
    },
    "tags": []
   },
   "outputs": [],
   "source": [
    "#q1- binary cossentrophy"
   ]
  },
  {
   "cell_type": "code",
   "execution_count": 14,
   "id": "356642ef-599a-429c-a996-ccc414ce7330",
   "metadata": {
    "execution": {
     "iopub.execute_input": "2023-11-20T01:22:36.541968Z",
     "iopub.status.busy": "2023-11-20T01:22:36.541583Z",
     "iopub.status.idle": "2023-11-20T01:22:36.556374Z",
     "shell.execute_reply": "2023-11-20T01:22:36.555694Z",
     "shell.execute_reply.started": "2023-11-20T01:22:36.541941Z"
    },
    "tags": []
   },
   "outputs": [
    {
     "name": "stdout",
     "output_type": "stream",
     "text": [
      "Model: \"sequential_2\"\n",
      "_________________________________________________________________\n",
      " Layer (type)                Output Shape              Param #   \n",
      "=================================================================\n",
      " conv2d_1 (Conv2D)           (None, 148, 148, 32)      896       \n",
      "                                                                 \n",
      " max_pooling2d_1 (MaxPooling  (None, 74, 74, 32)       0         \n",
      " 2D)                                                             \n",
      "                                                                 \n",
      " flatten_1 (Flatten)         (None, 175232)            0         \n",
      "                                                                 \n",
      " dense_2 (Dense)             (None, 64)                11214912  \n",
      "                                                                 \n",
      " dense_3 (Dense)             (None, 1)                 65        \n",
      "                                                                 \n",
      "=================================================================\n",
      "Total params: 11,215,873\n",
      "Trainable params: 11,215,873\n",
      "Non-trainable params: 0\n",
      "_________________________________________________________________\n"
     ]
    }
   ],
   "source": [
    "model.summary()\n"
   ]
  },
  {
   "cell_type": "code",
   "execution_count": 15,
   "id": "7aa0ae74-025c-4a47-87df-c0dd23c0eda6",
   "metadata": {
    "execution": {
     "iopub.execute_input": "2023-11-20T01:23:05.913198Z",
     "iopub.status.busy": "2023-11-20T01:23:05.912818Z",
     "iopub.status.idle": "2023-11-20T01:23:05.916381Z",
     "shell.execute_reply": "2023-11-20T01:23:05.915668Z",
     "shell.execute_reply.started": "2023-11-20T01:23:05.913176Z"
    },
    "tags": []
   },
   "outputs": [],
   "source": [
    "#q2 - 11,215,873"
   ]
  },
  {
   "cell_type": "code",
   "execution_count": 16,
   "id": "cc5ef226-7c2e-46eb-9654-8b56fecb4e71",
   "metadata": {
    "execution": {
     "iopub.execute_input": "2023-11-20T01:23:23.913109Z",
     "iopub.status.busy": "2023-11-20T01:23:23.912723Z",
     "iopub.status.idle": "2023-11-20T01:23:23.916567Z",
     "shell.execute_reply": "2023-11-20T01:23:23.915944Z",
     "shell.execute_reply.started": "2023-11-20T01:23:23.913086Z"
    },
    "tags": []
   },
   "outputs": [],
   "source": [
    "train_datagen = ImageDataGenerator(rescale=1./255)\n",
    "val_datagen = ImageDataGenerator(rescale=1./255)\n"
   ]
  },
  {
   "cell_type": "code",
   "execution_count": 30,
   "id": "d452938c-0728-47eb-a4f3-f9df2fc8c4af",
   "metadata": {
    "execution": {
     "iopub.execute_input": "2023-11-20T01:26:36.733880Z",
     "iopub.status.busy": "2023-11-20T01:26:36.733508Z",
     "iopub.status.idle": "2023-11-20T01:26:36.836112Z",
     "shell.execute_reply": "2023-11-20T01:26:36.835583Z",
     "shell.execute_reply.started": "2023-11-20T01:26:36.733860Z"
    },
    "tags": []
   },
   "outputs": [
    {
     "name": "stdout",
     "output_type": "stream",
     "text": [
      "Found 3677 images belonging to 2 classes.\n"
     ]
    }
   ],
   "source": [
    "train_generator = train_datagen.flow_from_directory(train_dir,\n",
    "                                                    target_size=(150, 150),\n",
    "                                                    batch_size=20,\n",
    "                                                    class_mode='binary')"
   ]
  },
  {
   "cell_type": "code",
   "execution_count": null,
   "id": "676e5c77-36ec-4cc1-8cdf-11eca0edbdf0",
   "metadata": {
    "execution": {
     "iopub.status.busy": "2023-11-20T01:28:15.842490Z",
     "iopub.status.idle": "2023-11-20T01:28:15.842824Z",
     "shell.execute_reply": "2023-11-20T01:28:15.842706Z",
     "shell.execute_reply.started": "2023-11-20T01:28:15.842692Z"
    },
    "tags": []
   },
   "outputs": [],
   "source": [
    "validation_generator = val_datagen.flow_from_directory(test_dir,\n",
    "                                                        target_size=(150, 150),\n",
    "                                                        batch_size=20,\n",
    "                                                        class_mode='binary')"
   ]
  },
  {
   "cell_type": "code",
   "execution_count": 34,
   "id": "95b34c33-2d0a-4e0c-951c-43b636efd118",
   "metadata": {
    "execution": {
     "iopub.execute_input": "2023-11-20T01:28:17.260952Z",
     "iopub.status.busy": "2023-11-20T01:28:17.260343Z",
     "iopub.status.idle": "2023-11-20T01:28:17.298016Z",
     "shell.execute_reply": "2023-11-20T01:28:17.297244Z",
     "shell.execute_reply.started": "2023-11-20T01:28:17.260926Z"
    },
    "tags": []
   },
   "outputs": [
    {
     "name": "stdout",
     "output_type": "stream",
     "text": [
      "data batch shape: (20, 150, 150, 3)\n",
      "labels batch shape: (20,)\n"
     ]
    }
   ],
   "source": [
    "for data_batch, labels_batch in train_generator:\n",
    "    print('data batch shape:', data_batch.shape)\n",
    "    print('labels batch shape:', labels_batch.shape)\n",
    "    break"
   ]
  },
  {
   "cell_type": "code",
   "execution_count": 35,
   "id": "14941dc8-60fe-44e7-acc5-08d4f7dd938d",
   "metadata": {
    "execution": {
     "iopub.execute_input": "2023-11-20T01:28:29.292103Z",
     "iopub.status.busy": "2023-11-20T01:28:29.291715Z",
     "iopub.status.idle": "2023-11-20T01:29:57.148054Z",
     "shell.execute_reply": "2023-11-20T01:29:57.147339Z",
     "shell.execute_reply.started": "2023-11-20T01:28:29.292079Z"
    },
    "tags": []
   },
   "outputs": [
    {
     "name": "stdout",
     "output_type": "stream",
     "text": [
      "Epoch 1/10\n"
     ]
    },
    {
     "name": "stderr",
     "output_type": "stream",
     "text": [
      "2023-11-20 01:28:32.676079: I tensorflow/compiler/xla/stream_executor/cuda/cuda_dnn.cc:428] Loaded cuDNN version 8800\n",
      "2023-11-20 01:28:33.418318: I tensorflow/tsl/platform/default/subprocess.cc:304] Start cannot spawn child process: No such file or directory\n",
      "2023-11-20 01:28:33.418804: I tensorflow/tsl/platform/default/subprocess.cc:304] Start cannot spawn child process: No such file or directory\n",
      "2023-11-20 01:28:33.418845: W tensorflow/compiler/xla/stream_executor/gpu/asm_compiler.cc:85] Couldn't get ptxas version string: INTERNAL: Couldn't invoke ptxas --version\n",
      "2023-11-20 01:28:33.419538: I tensorflow/tsl/platform/default/subprocess.cc:304] Start cannot spawn child process: No such file or directory\n",
      "2023-11-20 01:28:33.419613: W tensorflow/compiler/xla/stream_executor/gpu/redzone_allocator.cc:318] INTERNAL: Failed to launch ptxas\n",
      "Relying on driver to perform ptx compilation. \n",
      "Modify $PATH to customize ptxas location.\n",
      "This message will be only logged once.\n"
     ]
    },
    {
     "name": "stdout",
     "output_type": "stream",
     "text": [
      "184/184 [==============================] - 14s 49ms/step - loss: 0.6954 - accuracy: 0.5205 - val_loss: 0.6818 - val_accuracy: 0.5904\n",
      "Epoch 2/10\n",
      "184/184 [==============================] - 8s 44ms/step - loss: 0.6722 - accuracy: 0.5719 - val_loss: 0.6426 - val_accuracy: 0.5948\n",
      "Epoch 3/10\n",
      "184/184 [==============================] - 8s 44ms/step - loss: 0.6448 - accuracy: 0.6315 - val_loss: 0.6267 - val_accuracy: 0.6427\n",
      "Epoch 4/10\n",
      "184/184 [==============================] - 8s 44ms/step - loss: 0.6110 - accuracy: 0.6636 - val_loss: 0.5838 - val_accuracy: 0.6830\n",
      "Epoch 5/10\n",
      "184/184 [==============================] - 8s 44ms/step - loss: 0.5659 - accuracy: 0.7136 - val_loss: 0.5685 - val_accuracy: 0.6993\n",
      "Epoch 6/10\n",
      "184/184 [==============================] - 8s 43ms/step - loss: 0.5308 - accuracy: 0.7338 - val_loss: 0.6053 - val_accuracy: 0.6667\n",
      "Epoch 7/10\n",
      "184/184 [==============================] - 8s 45ms/step - loss: 0.5066 - accuracy: 0.7667 - val_loss: 0.5346 - val_accuracy: 0.7277\n",
      "Epoch 8/10\n",
      "184/184 [==============================] - 8s 44ms/step - loss: 0.4807 - accuracy: 0.7832 - val_loss: 0.5107 - val_accuracy: 0.7516\n",
      "Epoch 9/10\n",
      "184/184 [==============================] - 8s 44ms/step - loss: 0.4503 - accuracy: 0.8009 - val_loss: 0.5272 - val_accuracy: 0.7320\n",
      "Epoch 10/10\n",
      "184/184 [==============================] - 8s 45ms/step - loss: 0.4400 - accuracy: 0.8107 - val_loss: 0.6337 - val_accuracy: 0.6961\n"
     ]
    }
   ],
   "source": [
    "history = model.fit(\n",
    "    train_generator,\n",
    "    epochs=10,\n",
    "    validation_data=validation_generator)"
   ]
  },
  {
   "cell_type": "code",
   "execution_count": 54,
   "id": "e6fb2aa4-fde1-4db4-aeaf-8125a9afa396",
   "metadata": {
    "execution": {
     "iopub.execute_input": "2023-11-20T01:51:31.365589Z",
     "iopub.status.busy": "2023-11-20T01:51:31.365222Z",
     "iopub.status.idle": "2023-11-20T01:51:31.369466Z",
     "shell.execute_reply": "2023-11-20T01:51:31.368647Z",
     "shell.execute_reply.started": "2023-11-20T01:51:31.365564Z"
    },
    "tags": []
   },
   "outputs": [],
   "source": [
    "acc = history.history['accuracy']\n",
    "val_acc = history.history['val_accuracy']\n",
    "loss = history.history['loss']\n",
    "val_loss = history.history['val_loss']\n"
   ]
  },
  {
   "cell_type": "code",
   "execution_count": 55,
   "id": "63dd212a-afd1-4c40-801e-1dbe32746fe8",
   "metadata": {
    "execution": {
     "iopub.execute_input": "2023-11-20T01:51:32.610254Z",
     "iopub.status.busy": "2023-11-20T01:51:32.609952Z",
     "iopub.status.idle": "2023-11-20T01:51:32.614894Z",
     "shell.execute_reply": "2023-11-20T01:51:32.614186Z",
     "shell.execute_reply.started": "2023-11-20T01:51:32.610233Z"
    },
    "tags": []
   },
   "outputs": [
    {
     "data": {
      "text/plain": [
       "0.7990209460258484"
      ]
     },
     "execution_count": 55,
     "metadata": {},
     "output_type": "execute_result"
    }
   ],
   "source": [
    "acc_median = np.median(acc)\n",
    "acc_median\n",
    "#median is .72?"
   ]
  },
  {
   "cell_type": "code",
   "execution_count": 56,
   "id": "d2734ff6-fed0-4ab5-932c-b83fa10954e3",
   "metadata": {
    "execution": {
     "iopub.execute_input": "2023-11-20T01:51:33.311471Z",
     "iopub.status.busy": "2023-11-20T01:51:33.311193Z",
     "iopub.status.idle": "2023-11-20T01:51:33.316083Z",
     "shell.execute_reply": "2023-11-20T01:51:33.315384Z",
     "shell.execute_reply.started": "2023-11-20T01:51:33.311452Z"
    },
    "tags": []
   },
   "outputs": [
    {
     "data": {
      "text/plain": [
       "0.014474293972299582"
      ]
     },
     "execution_count": 56,
     "metadata": {},
     "output_type": "execute_result"
    }
   ],
   "source": [
    "loss_std = np.std(loss)\n",
    "loss_std\n",
    "#std is 0.87"
   ]
  },
  {
   "cell_type": "code",
   "execution_count": 45,
   "id": "4f68e33e-5703-4fbe-9f2b-24eaf3841ef3",
   "metadata": {
    "execution": {
     "iopub.execute_input": "2023-11-20T01:38:41.966315Z",
     "iopub.status.busy": "2023-11-20T01:38:41.965899Z",
     "iopub.status.idle": "2023-11-20T01:38:41.970016Z",
     "shell.execute_reply": "2023-11-20T01:38:41.969243Z",
     "shell.execute_reply.started": "2023-11-20T01:38:41.966292Z"
    },
    "tags": []
   },
   "outputs": [],
   "source": [
    "train_datagen = ImageDataGenerator(\n",
    "    rescale=1./255,\n",
    "    height_shift_range=0.1,\n",
    "    zoom_range=0.1,\n",
    "    horizontal_flip=True,\n",
    "    fill_mode='nearest')"
   ]
  },
  {
   "cell_type": "code",
   "execution_count": 46,
   "id": "c16a7661-0a61-4778-9746-b9de86b811ba",
   "metadata": {
    "execution": {
     "iopub.execute_input": "2023-11-20T01:38:58.091846Z",
     "iopub.status.busy": "2023-11-20T01:38:58.091467Z",
     "iopub.status.idle": "2023-11-20T01:38:58.095427Z",
     "shell.execute_reply": "2023-11-20T01:38:58.094592Z",
     "shell.execute_reply.started": "2023-11-20T01:38:58.091818Z"
    },
    "tags": []
   },
   "outputs": [],
   "source": [
    "test_datagen = ImageDataGenerator(rescale=1./255)"
   ]
  },
  {
   "cell_type": "code",
   "execution_count": 47,
   "id": "58107ee2-c8a6-4874-945d-adb2803ec5b4",
   "metadata": {
    "execution": {
     "iopub.execute_input": "2023-11-20T01:39:01.895033Z",
     "iopub.status.busy": "2023-11-20T01:39:01.894641Z",
     "iopub.status.idle": "2023-11-20T01:39:01.988641Z",
     "shell.execute_reply": "2023-11-20T01:39:01.988110Z",
     "shell.execute_reply.started": "2023-11-20T01:39:01.895007Z"
    },
    "tags": []
   },
   "outputs": [
    {
     "name": "stdout",
     "output_type": "stream",
     "text": [
      "Found 3677 images belonging to 2 classes.\n"
     ]
    }
   ],
   "source": [
    "train_generator = train_datagen.flow_from_directory(train_dir,\n",
    "                                                    target_size=(150, 150), \n",
    "                                                    batch_size=32, \n",
    "                                                    class_mode='binary')"
   ]
  },
  {
   "cell_type": "code",
   "execution_count": 48,
   "id": "86833fa3-c150-4acb-bc8b-c537f7862426",
   "metadata": {
    "execution": {
     "iopub.execute_input": "2023-11-20T01:39:07.903143Z",
     "iopub.status.busy": "2023-11-20T01:39:07.902753Z",
     "iopub.status.idle": "2023-11-20T01:39:07.936894Z",
     "shell.execute_reply": "2023-11-20T01:39:07.936325Z",
     "shell.execute_reply.started": "2023-11-20T01:39:07.903120Z"
    },
    "tags": []
   },
   "outputs": [
    {
     "name": "stdout",
     "output_type": "stream",
     "text": [
      "Found 918 images belonging to 2 classes.\n"
     ]
    }
   ],
   "source": [
    "validation_generator = test_datagen.flow_from_directory(\n",
    "    test_dir,\n",
    "    target_size=(150, 150),\n",
    "    batch_size=32,\n",
    "    class_mode='binary')"
   ]
  },
  {
   "cell_type": "code",
   "execution_count": 49,
   "id": "b78a4d06-144d-40c5-9eaa-4fccfc2a3775",
   "metadata": {
    "execution": {
     "iopub.execute_input": "2023-11-20T01:39:12.321645Z",
     "iopub.status.busy": "2023-11-20T01:39:12.321267Z",
     "iopub.status.idle": "2023-11-20T01:42:41.012290Z",
     "shell.execute_reply": "2023-11-20T01:42:41.011649Z",
     "shell.execute_reply.started": "2023-11-20T01:39:12.321623Z"
    },
    "tags": []
   },
   "outputs": [
    {
     "name": "stdout",
     "output_type": "stream",
     "text": [
      "Epoch 1/10\n",
      "115/115 [==============================] - 21s 182ms/step - loss: 0.4764 - accuracy: 0.7805 - val_loss: 0.4936 - val_accuracy: 0.7614\n",
      "Epoch 2/10\n",
      "115/115 [==============================] - 21s 180ms/step - loss: 0.4683 - accuracy: 0.7803 - val_loss: 0.4995 - val_accuracy: 0.7625\n",
      "Epoch 3/10\n",
      "115/115 [==============================] - 21s 181ms/step - loss: 0.4617 - accuracy: 0.7914 - val_loss: 0.4751 - val_accuracy: 0.7691\n",
      "Epoch 4/10\n",
      "115/115 [==============================] - 21s 182ms/step - loss: 0.4540 - accuracy: 0.7949 - val_loss: 0.4767 - val_accuracy: 0.7756\n",
      "Epoch 5/10\n",
      "115/115 [==============================] - 21s 180ms/step - loss: 0.4548 - accuracy: 0.7966 - val_loss: 0.4823 - val_accuracy: 0.7756\n",
      "Epoch 6/10\n",
      "115/115 [==============================] - 21s 182ms/step - loss: 0.4402 - accuracy: 0.8015 - val_loss: 0.4749 - val_accuracy: 0.7876\n",
      "Epoch 7/10\n",
      "115/115 [==============================] - 21s 180ms/step - loss: 0.4379 - accuracy: 0.8102 - val_loss: 0.5491 - val_accuracy: 0.7462\n",
      "Epoch 8/10\n",
      "115/115 [==============================] - 21s 180ms/step - loss: 0.4402 - accuracy: 0.8015 - val_loss: 0.4847 - val_accuracy: 0.7691\n",
      "Epoch 9/10\n",
      "115/115 [==============================] - 21s 181ms/step - loss: 0.4345 - accuracy: 0.8045 - val_loss: 0.4595 - val_accuracy: 0.7832\n",
      "Epoch 10/10\n",
      "115/115 [==============================] - 21s 182ms/step - loss: 0.4325 - accuracy: 0.8058 - val_loss: 0.4654 - val_accuracy: 0.7865\n"
     ]
    }
   ],
   "source": [
    "history = model.fit(\n",
    "    train_generator,\n",
    "    epochs=10,\n",
    "    validation_data=validation_generator)\n",
    "     "
   ]
  },
  {
   "cell_type": "code",
   "execution_count": 51,
   "id": "d60a97ec-0834-4cb1-8038-8cf8a0f41a02",
   "metadata": {
    "execution": {
     "iopub.execute_input": "2023-11-20T01:44:00.531485Z",
     "iopub.status.busy": "2023-11-20T01:44:00.531099Z",
     "iopub.status.idle": "2023-11-20T01:44:00.535411Z",
     "shell.execute_reply": "2023-11-20T01:44:00.534566Z",
     "shell.execute_reply.started": "2023-11-20T01:44:00.531462Z"
    },
    "tags": []
   },
   "outputs": [],
   "source": [
    "acc_aug = history.history['accuracy']\n",
    "val_acc_aug = history.history['val_accuracy']\n",
    "loss_aug = history.history['loss']\n",
    "val_loss_aug = history.history['val_loss']\n"
   ]
  },
  {
   "cell_type": "code",
   "execution_count": 52,
   "id": "5b5568ce-8ecf-40b0-85c7-df964713202d",
   "metadata": {
    "execution": {
     "iopub.execute_input": "2023-11-20T01:44:06.484542Z",
     "iopub.status.busy": "2023-11-20T01:44:06.484171Z",
     "iopub.status.idle": "2023-11-20T01:44:06.489268Z",
     "shell.execute_reply": "2023-11-20T01:44:06.488571Z",
     "shell.execute_reply.started": "2023-11-20T01:44:06.484517Z"
    },
    "tags": []
   },
   "outputs": [
    {
     "data": {
      "text/plain": [
       "0.4860734611749649"
      ]
     },
     "execution_count": 52,
     "metadata": {},
     "output_type": "execute_result"
    }
   ],
   "source": [
    "loss_mean_aug = np.mean(val_loss_aug)\n",
    "loss_mean_aug\n",
    "     \n",
    "#q5 0.486"
   ]
  },
  {
   "cell_type": "code",
   "execution_count": 53,
   "id": "7d84bbe9-3191-4b0c-a4ce-3083cd2a0756",
   "metadata": {
    "execution": {
     "iopub.execute_input": "2023-11-20T01:44:20.448492Z",
     "iopub.status.busy": "2023-11-20T01:44:20.448121Z",
     "iopub.status.idle": "2023-11-20T01:44:20.453501Z",
     "shell.execute_reply": "2023-11-20T01:44:20.452778Z",
     "shell.execute_reply.started": "2023-11-20T01:44:20.448467Z"
    },
    "tags": []
   },
   "outputs": [
    {
     "data": {
      "text/plain": [
       "0.7745097994804382"
      ]
     },
     "execution_count": 53,
     "metadata": {},
     "output_type": "execute_result"
    }
   ],
   "source": [
    "acc_mean_aug = np.mean(val_acc_aug[5:10])\n",
    "acc_mean_aug\n",
    "#q6 0.7745"
   ]
  },
  {
   "cell_type": "code",
   "execution_count": null,
   "id": "4135415b-783c-4bda-87d0-a3c2f418e5c9",
   "metadata": {},
   "outputs": [],
   "source": []
  }
 ],
 "metadata": {
  "kernelspec": {
   "display_name": "saturn (Python 3)",
   "language": "python",
   "name": "python3"
  },
  "language_info": {
   "codemirror_mode": {
    "name": "ipython",
    "version": 3
   },
   "file_extension": ".py",
   "mimetype": "text/x-python",
   "name": "python",
   "nbconvert_exporter": "python",
   "pygments_lexer": "ipython3",
   "version": "3.9.17"
  }
 },
 "nbformat": 4,
 "nbformat_minor": 5
}
